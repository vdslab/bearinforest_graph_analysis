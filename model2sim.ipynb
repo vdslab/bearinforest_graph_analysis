{
  "nbformat": 4,
  "nbformat_minor": 0,
  "metadata": {
    "colab": {
      "provenance": [],
      "mount_file_id": "1tlNmR0xt66z-t2riz9rED2EAyO7V9zoa",
      "authorship_tag": "ABX9TyPEVUFCAs3BKZzr+kbhCW5E",
      "include_colab_link": true
    },
    "kernelspec": {
      "name": "python3",
      "display_name": "Python 3"
    },
    "language_info": {
      "name": "python"
    },
    "accelerator": "GPU",
    "gpuClass": "standard"
  },
  "cells": [
    {
      "cell_type": "markdown",
      "metadata": {
        "id": "view-in-github",
        "colab_type": "text"
      },
      "source": [
        "<a href=\"https://colab.research.google.com/github/vdslab/bearinforest_graph_analysis/blob/main/model2sim.ipynb\" target=\"_parent\"><img src=\"https://colab.research.google.com/assets/colab-badge.svg\" alt=\"Open In Colab\"/></a>"
      ]
    },
    {
      "cell_type": "code",
      "execution_count": null,
      "metadata": {
        "colab": {
          "base_uri": "https://localhost:8080/"
        },
        "id": "_29yC5SMmpbz",
        "outputId": "19ebab3b-caa3-40c8-e25e-92e6e5bde17f"
      },
      "outputs": [
        {
          "output_type": "stream",
          "name": "stdout",
          "text": [
            "Looking in indexes: https://pypi.org/simple, https://us-python.pkg.dev/colab-wheels/public/simple/\n",
            "Requirement already satisfied: gensim in /usr/local/lib/python3.8/dist-packages (3.6.0)\n",
            "Requirement already satisfied: six>=1.5.0 in /usr/local/lib/python3.8/dist-packages (from gensim) (1.15.0)\n",
            "Requirement already satisfied: scipy>=0.18.1 in /usr/local/lib/python3.8/dist-packages (from gensim) (1.7.3)\n",
            "Requirement already satisfied: numpy>=1.11.3 in /usr/local/lib/python3.8/dist-packages (from gensim) (1.21.6)\n",
            "Requirement already satisfied: smart-open>=1.2.1 in /usr/local/lib/python3.8/dist-packages (from gensim) (6.3.0)\n"
          ]
        }
      ],
      "source": [
        "!pip install gensim"
      ]
    },
    {
      "cell_type": "code",
      "source": [
        "import os\n",
        "import glob\n",
        "import pprint\n",
        "\n",
        "def getPublicNmaes(paper_directory):\n",
        "  dir = paper_directory\n",
        "  if(paper_directory[-1] != \"/\"):\n",
        "    dir += \"/\"\n",
        "  filepath = glob.glob(dir + \"*\")\n",
        "  # pprint.pprint(filepath)\n",
        "\n",
        "  dirname = []\n",
        "  for path in filepath:\n",
        "    # そのファイル名を取得\n",
        "    subdirname = os.path.splitext(os.path.basename(path))[0]\n",
        "    # print(subdirname)\n",
        "    dirname.append(subdirname)\n",
        "    # print(os.path.dirname(filepath[0]))\n",
        "\n",
        "  # 重複をなくす\n",
        "  dirname = list(set(dirname))\n",
        "  pprint.pprint(dirname)\n",
        "  return dirname"
      ],
      "metadata": {
        "id": "yeYfGZGWmuno"
      },
      "execution_count": null,
      "outputs": []
    },
    {
      "cell_type": "code",
      "source": [
        "import os\n",
        "from gensim.models.doc2vec import Doc2Vec\n",
        "\n",
        "\n",
        "# mdelを保存してある場所\n",
        "model = Doc2Vec.load(\"/content/drive/MyDrive/tag_doi.model\")\n",
        "\n",
        "\n",
        "# edgeを保存する場所\n",
        "root_dir = \"/content/drive/MyDrive/\"\n",
        "csv_name = \"doc2vec_doi_sim\"\n",
        "csv_filepath = root_dir + 'similarity/'\n",
        "\n",
        "# フォルダ作成\n",
        "if not os.path.isdir(csv_filepath):\n",
        "  os.makedirs(csv_filepath)\n",
        "\n",
        "# 閾値\n",
        "cos_sim_th = 0.8\n",
        "# 雑誌のディレクトリのパス\n",
        "csv_dir = root_dir + \"tfidf_doi_abst_csv/\"\n",
        "public_titles = getPublicNmaes(csv_dir)"
      ],
      "metadata": {
        "colab": {
          "base_uri": "https://localhost:8080/"
        },
        "id": "rAOFsDEMmxk7",
        "outputId": "854b4f88-ddfa-44b8-caf2-ff8d10524a93"
      },
      "execution_count": null,
      "outputs": [
        {
          "output_type": "stream",
          "name": "stdout",
          "text": [
            "['IEEE Transactions on Automatic Control',\n",
            " 'IEEE Transactions on Cybernetics',\n",
            " 'IEEE Transactions on Robotics',\n",
            " 'IEEE Transactions on Systems, Man, and Cybernetics,Systems',\n",
            " 'IEEE Transactions on Image Processing',\n",
            " 'IEEE Transactions on Smart Grid',\n",
            " 'IEEE Transactions on Visualization and Computer Graphics',\n",
            " 'IEEE Wireless Communications',\n",
            " 'IEEE Transactions on Wireless Communications',\n",
            " 'IEEE Transactions on Industrial Informatics',\n",
            " 'IEEE Transactions on Multimedia',\n",
            " 'IEEE Transactions on Services Computing',\n",
            " 'IEEE Signal Processing Magazine',\n",
            " 'IEEE Transactions on Medical Imaging',\n",
            " 'IEEE Transactions on Control of Network Systems',\n",
            " 'IEEE Transactions on Industrial Electronics',\n",
            " 'IEEE Transactions on Evolutionary Computation',\n",
            " 'IEEE Transactions on Information Forensics and Security',\n",
            " 'IEEE Communications Magazine',\n",
            " 'IEEE Transactions on Neural Networks and Learning Systems',\n",
            " 'IEEE Transactions on Cognitive Communications and Networking',\n",
            " 'IEEE Computational Intelligence Magazine',\n",
            " 'IEEE Transactions on Affective Computing',\n",
            " 'IEEE Transactions on Pattern Analysis and Machine Intelligence',\n",
            " 'Proceedings of the IEEE',\n",
            " 'IEEE Internet of Things Journal',\n",
            " 'IEEE Network',\n",
            " 'IEEE Transactions on Fuzzy Systems',\n",
            " 'IEEE Journal on Selected Areas in Communications',\n",
            " 'IEEE Transactions on Vehicular Technology',\n",
            " 'IEEE Transactions on Signal Processing']\n"
          ]
        }
      ]
    },
    {
      "cell_type": "code",
      "source": [
        "from gensim.models.doc2vec import Doc2Vec\n",
        "# from gensim.models.doc2vec import TaggedDocument\n",
        "import csv\n",
        "import glob\n",
        "from matplotlib.pyplot import twinx\n",
        "import numpy as np\n",
        "import pprint\n",
        "\n",
        "dois = []\n",
        "for title in public_titles:\n",
        "    with open(\"{}{}.csv\".format(csv_dir, title)) as f:\n",
        "        csvread = csv.reader(f)\n",
        "        csvdata = []\n",
        "        for i, row in enumerate(csvread):\n",
        "          if(i == 0):\n",
        "            continue\n",
        "          csvdata.append(row[0])\n",
        "        # for i in range(1, each_size+1):\n",
        "        #   csvdata.append(csvread[i])\n",
        "        dois += csvdata\n",
        "\n",
        "\n",
        "# pprint.pprint(papers_name[0:10])\n",
        "# # print()\n",
        "dois_len = len(dois)\n",
        "print(dois_len)\n",
        "\n",
        "# cos sim csv\n",
        "# with open(csv_filepath + csv_name, mode=\"w\", encoding=\"utf-8\") as f:\n",
        "#   writer = csv.writer(f)\n",
        "#   writer.writerow([\"Source\", \"Target\", \"Cosine_similarity\"])\n",
        "\n",
        "unit_n = 10000\n",
        "\n",
        "for index, unit in enumerate(range(0, dois_len, unit_n)):\n",
        "  print(index, unit)\n",
        "  with open(f\"{csv_filepath}{csv_name}-{index+1}.csv\", mode=\"w\", encoding=\"utf-8\") as f:\n",
        "    writer = csv.writer(f)\n",
        "    writer.writerow([\"Source\", \"Target\", \"Cosine_similarity\"])\n",
        "    print(unit, unit+unit_n)\n",
        "    for i in range(unit, unit + unit_n):\n",
        "      if(i >= dois_len): break\n",
        "      sims = model.docvecs.most_similar(f\"{dois[i]}\", topn=10)\n",
        "      # print(sims)\n",
        "      # print(f\"{csv_filepath}{csv_name}{index+1}\")\n",
        "      for [title, sim] in sims:\n",
        "          writer.writerow([dois[i], title, sim])\n",
        "\n"
      ],
      "metadata": {
        "colab": {
          "base_uri": "https://localhost:8080/"
        },
        "id": "34rJpaQ0o2i6",
        "outputId": "09910186-216f-4abb-b6ad-59784caea3e4"
      },
      "execution_count": null,
      "outputs": [
        {
          "output_type": "stream",
          "name": "stdout",
          "text": [
            "184915\n",
            "0 0\n",
            "0 10000\n",
            "1 10000\n",
            "10000 20000\n",
            "2 20000\n",
            "20000 30000\n",
            "3 30000\n",
            "30000 40000\n",
            "4 40000\n",
            "40000 50000\n",
            "5 50000\n",
            "50000 60000\n",
            "6 60000\n",
            "60000 70000\n",
            "7 70000\n",
            "70000 80000\n",
            "8 80000\n",
            "80000 90000\n",
            "9 90000\n",
            "90000 100000\n",
            "10 100000\n",
            "100000 110000\n",
            "11 110000\n",
            "110000 120000\n",
            "12 120000\n",
            "120000 130000\n",
            "13 130000\n",
            "130000 140000\n",
            "14 140000\n",
            "140000 150000\n",
            "15 150000\n",
            "150000 160000\n",
            "16 160000\n",
            "160000 170000\n",
            "17 170000\n",
            "170000 180000\n",
            "18 180000\n",
            "180000 190000\n"
          ]
        }
      ]
    },
    {
      "cell_type": "code",
      "source": [
        "import glob\n",
        "import pprint\n",
        "\n",
        "created_dois = []\n",
        "dir = \"/content/drive/MyDrive/similarity/\"\n",
        "name = \"doc2vec_doi_sim\"\n",
        "\n",
        "files = glob.glob(f\"{dir}{name}*\")\n",
        "\n",
        "print(files)\n",
        "\n",
        "for file in files:\n",
        "    with open(file) as f:\n",
        "        csvread = csv.reader(f)\n",
        "        csvdata = []\n",
        "        for i, row in enumerate(csvread):\n",
        "          if(i == 0):\n",
        "            continue\n",
        "          csvdata.append(row[0])\n",
        "        # for i in range(1, each_size+1):\n",
        "        #   csvdata.append(csvread[i])\n",
        "        csvdata = list(set(csvdata))\n",
        "        created_dois += csvdata\n",
        "\n",
        "t_dois = set(dois)\n",
        "tf_dois = set(created_dois)\n",
        "\n",
        "if t_dois == tf_dois:\n",
        "  print(\"ok\")\n",
        "else:\n",
        "  print(\"no\")"
      ],
      "metadata": {
        "id": "tu94WMRxm2I9",
        "colab": {
          "base_uri": "https://localhost:8080/"
        },
        "outputId": "235f9098-a780-4512-d31a-35f80b051b1f"
      },
      "execution_count": null,
      "outputs": [
        {
          "output_type": "stream",
          "name": "stdout",
          "text": [
            "['/content/drive/MyDrive/similarity/doc2vec_doi_sim-1.csv', '/content/drive/MyDrive/similarity/doc2vec_doi_sim-2.csv', '/content/drive/MyDrive/similarity/doc2vec_doi_sim-3.csv', '/content/drive/MyDrive/similarity/doc2vec_doi_sim-4.csv', '/content/drive/MyDrive/similarity/doc2vec_doi_sim-5.csv', '/content/drive/MyDrive/similarity/doc2vec_doi_sim-6.csv', '/content/drive/MyDrive/similarity/doc2vec_doi_sim-7.csv', '/content/drive/MyDrive/similarity/doc2vec_doi_sim-7 (1).csv', '/content/drive/MyDrive/similarity/doc2vec_doi_sim-8.csv', '/content/drive/MyDrive/similarity/doc2vec_doi_sim-8 (1).csv', '/content/drive/MyDrive/similarity/doc2vec_doi_sim-9.csv', '/content/drive/MyDrive/similarity/doc2vec_doi_sim-9 (1).csv', '/content/drive/MyDrive/similarity/doc2vec_doi_sim-10.csv', '/content/drive/MyDrive/similarity/doc2vec_doi_sim-10 (1).csv', '/content/drive/MyDrive/similarity/doc2vec_doi_sim-11.csv', '/content/drive/MyDrive/similarity/doc2vec_doi_sim-11 (1).csv', '/content/drive/MyDrive/similarity/doc2vec_doi_sim-12.csv', '/content/drive/MyDrive/similarity/doc2vec_doi_sim-13.csv', '/content/drive/MyDrive/similarity/doc2vec_doi_sim-14.csv', '/content/drive/MyDrive/similarity/doc2vec_doi_sim-15.csv', '/content/drive/MyDrive/similarity/doc2vec_doi_sim-16.csv', '/content/drive/MyDrive/similarity/doc2vec_doi_sim-17.csv', '/content/drive/MyDrive/similarity/doc2vec_doi_sim-18.csv', '/content/drive/MyDrive/similarity/doc2vec_doi_sim-19.csv']\n",
            "ok\n"
          ]
        }
      ]
    }
  ]
}