{
  "nbformat": 4,
  "nbformat_minor": 0,
  "metadata": {
    "colab": {
      "provenance": [],
      "mount_file_id": "1Yt9Bd1y3Me870M1B_1zNTIj-shc4ji52",
      "authorship_tag": "ABX9TyPOQE7pakls6+ZAEZjP4cZO",
      "include_colab_link": true
    },
    "kernelspec": {
      "name": "python3",
      "display_name": "Python 3"
    },
    "language_info": {
      "name": "python"
    },
    "accelerator": "GPU",
    "gpuClass": "standard"
  },
  "cells": [
    {
      "cell_type": "markdown",
      "metadata": {
        "id": "view-in-github",
        "colab_type": "text"
      },
      "source": [
        "<a href=\"https://colab.research.google.com/github/vdslab/bearinforest_graph_analysis/blob/main/make_model.ipynb\" target=\"_parent\"><img src=\"https://colab.research.google.com/assets/colab-badge.svg\" alt=\"Open In Colab\"/></a>"
      ]
    },
    {
      "cell_type": "code",
      "execution_count": null,
      "metadata": {
        "colab": {
          "base_uri": "https://localhost:8080/"
        },
        "id": "Szi7UiXZPJhh",
        "outputId": "660f244e-5e0b-4f34-c040-f31215bb7e23"
      },
      "outputs": [
        {
          "output_type": "stream",
          "name": "stdout",
          "text": [
            "Looking in indexes: https://pypi.org/simple, https://us-python.pkg.dev/colab-wheels/public/simple/\n",
            "Requirement already satisfied: gensim in /usr/local/lib/python3.8/dist-packages (3.6.0)\n",
            "Requirement already satisfied: scipy>=0.18.1 in /usr/local/lib/python3.8/dist-packages (from gensim) (1.7.3)\n",
            "Requirement already satisfied: six>=1.5.0 in /usr/local/lib/python3.8/dist-packages (from gensim) (1.15.0)\n",
            "Requirement already satisfied: smart-open>=1.2.1 in /usr/local/lib/python3.8/dist-packages (from gensim) (6.3.0)\n",
            "Requirement already satisfied: numpy>=1.11.3 in /usr/local/lib/python3.8/dist-packages (from gensim) (1.21.6)\n"
          ]
        }
      ],
      "source": [
        "!pip install gensim"
      ]
    },
    {
      "cell_type": "code",
      "source": [
        "import os\n",
        "import glob\n",
        "import pprint\n",
        "\n",
        "def getPublicNmaesFromCsv(csv_directory):\n",
        "  dir = csv_directory\n",
        "  if(csv_directory[-1] != \"/\"):\n",
        "    dir += \"/\"\n",
        "  # データへのパス\n",
        "  filepath = glob.glob(dir + \"*\")\n",
        "  # pprint.pprint(filepath)\n",
        "\n",
        "  dirname = []\n",
        "  for path in filepath:\n",
        "    # そのデータの直上のファイル名を取得\n",
        "    subdirname = os.path.splitext(os.path.basename(path))[0]\n",
        "    # print(subdirname)\n",
        "    dirname.append(subdirname)\n",
        "    # print(os.path.dirname(filepath[0]))\n",
        "\n",
        "  # 重複をなくす\n",
        "  dirname = sorted(list(set(dirname)))\n",
        "  pprint.pprint(dirname)\n",
        "  return dirname"
      ],
      "metadata": {
        "id": "iiyZENFI-SyU"
      },
      "execution_count": null,
      "outputs": []
    },
    {
      "cell_type": "code",
      "source": [
        "import pprint\n",
        "from gensim.models.doc2vec import Doc2Vec\n",
        "from gensim.models.doc2vec import TaggedDocument\n",
        "import csv\n",
        "import time\n",
        "import zipfile\n",
        "import os\n",
        "\n",
        "# 雑誌のディレクトリのパス\n",
        "# public_dir = \"/content/drive/Shareddrives/vdslab/2022/bearinforest/New_Modeling_data.zip\"\n",
        "# titleとabstractのcsvがあるディレクトリのパス\n",
        "csv_dir = \"/content/drive/MyDrive/tfidf_doi_abst_csv/\"\n",
        "\n",
        "public_titles = getPublicNmaesFromCsv(csv_dir)\n",
        "\n",
        "model_save_dir = \"/content/drive/MyDrive/\"\n",
        "model_name = \"tag_doi\"\n",
        "print(\"model name >> {}\".format(model_name))\n",
        "\n",
        "if not os.path.isdir(model_save_dir):\n",
        "  os.makedirs(model_save_dir)\n",
        "  \n",
        "time_start = time.time()\n",
        "\n",
        "print(\"***** start make doc2vec model *****\")\n",
        "print(\"get train data\")\n",
        "train_csv_data = []\n",
        "for title in public_titles:\n",
        "    print(\"\\topen {}\".format(title))\n",
        "    with open(csv_dir + title + '.csv', encoding=\"utf-8\") as f:\n",
        "        reader = csv.reader(f)\n",
        "        csvdata = [row for row in reader]\n",
        "        csvdata = csvdata[1:]\n",
        "        # print(csvdata)\n",
        "        # abstract:1, doi:0\n",
        "        train_csv_data.extend(csvdata)\n",
        "# print(train_csv_data[0:3])\n",
        "train_data = ([TaggedDocument(words=train_csv_data[i][1].split(\" \"), tags=[\n",
        "    train_csv_data[i][0]]) for i in range(len(train_csv_data))])\n",
        "\n",
        "# pprint(train_csv_data)\n",
        "# print(train_data)\n",
        "print(\"train data length {}\".format(len(train_data)))\n",
        "\n",
        "# print(model_name)\n",
        "\n",
        "# default\n",
        "# window = 5, epochs = 10\n",
        "# worker = none, seed = none, min_count = none\n",
        "# negative sampling\n",
        "# hs = none, negative = none, ns_exponent = none\n",
        "\n",
        "# epochs 15～25, window = 15\n",
        "# for epoch in range(15, 25+1, 5):\n",
        "#   print(f\"epoch: {epoch}\")\n",
        "#   model_name = f\"epoch-{epoch}\"\n",
        "#   print(\"start train\")\n",
        "#   time_train_start = time.time()\n",
        "#   model = Doc2Vec(documents=train_data, window=15, epochs=epoch)\n",
        "#   time_train_end = time.time()\n",
        "#   print(\"end train: time {}\".format(time_train_end - time_train_start))\n",
        "#   print(\"save\")\n",
        "#   model.save(model_save_dir + \"{}.model\".format(model_name))\n",
        "#   print(\"end save\\n\")\n",
        "\n",
        "# vector size\n",
        "print(\"start train\")\n",
        "time_train_start = time.time()\n",
        "# model = Doc2Vec(documents=train_data, window=15)\n",
        "model = Doc2Vec(documents=train_data, window=15, epochs=30, hs=0, min_alpha= 1e-4, sample = 1e-3, min_count = 1, vector_size = 500, workers = 2)\n",
        "time_train_end = time.time()\n",
        "print(\"end train: time {}\".format(time_train_end - time_train_start))\n",
        "print(\"save\")\n",
        "model.save(model_save_dir + \"{}.model\".format(model_name))\n",
        "print(\"end save\\n\")\n",
        "\n",
        "time_end = time.time()\n",
        "print(time_end - time_start)\n",
        "print(\"***** end make doc2vec model *****\")\n"
      ],
      "metadata": {
        "id": "WFsioxMAPTCQ",
        "colab": {
          "base_uri": "https://localhost:8080/"
        },
        "outputId": "2eeefac1-029c-42d2-ac07-7b602f362b46"
      },
      "execution_count": null,
      "outputs": [
        {
          "output_type": "stream",
          "name": "stdout",
          "text": [
            "['IEEE Communications Magazine',\n",
            " 'IEEE Computational Intelligence Magazine',\n",
            " 'IEEE Internet of Things Journal',\n",
            " 'IEEE Journal on Selected Areas in Communications',\n",
            " 'IEEE Network',\n",
            " 'IEEE Signal Processing Magazine',\n",
            " 'IEEE Transactions on Affective Computing',\n",
            " 'IEEE Transactions on Automatic Control',\n",
            " 'IEEE Transactions on Cognitive Communications and Networking',\n",
            " 'IEEE Transactions on Control of Network Systems',\n",
            " 'IEEE Transactions on Cybernetics',\n",
            " 'IEEE Transactions on Evolutionary Computation',\n",
            " 'IEEE Transactions on Fuzzy Systems',\n",
            " 'IEEE Transactions on Image Processing',\n",
            " 'IEEE Transactions on Industrial Electronics',\n",
            " 'IEEE Transactions on Industrial Informatics',\n",
            " 'IEEE Transactions on Information Forensics and Security',\n",
            " 'IEEE Transactions on Medical Imaging',\n",
            " 'IEEE Transactions on Multimedia',\n",
            " 'IEEE Transactions on Neural Networks and Learning Systems',\n",
            " 'IEEE Transactions on Pattern Analysis and Machine Intelligence',\n",
            " 'IEEE Transactions on Robotics',\n",
            " 'IEEE Transactions on Services Computing',\n",
            " 'IEEE Transactions on Signal Processing',\n",
            " 'IEEE Transactions on Smart Grid',\n",
            " 'IEEE Transactions on Systems, Man, and Cybernetics,Systems',\n",
            " 'IEEE Transactions on Vehicular Technology',\n",
            " 'IEEE Transactions on Visualization and Computer Graphics',\n",
            " 'IEEE Transactions on Wireless Communications',\n",
            " 'IEEE Wireless Communications',\n",
            " 'Proceedings of the IEEE']\n",
            "model name >> tag_doi\n",
            "***** start make doc2vec model *****\n",
            "get train data\n",
            "\topen IEEE Communications Magazine\n",
            "\topen IEEE Computational Intelligence Magazine\n",
            "\topen IEEE Internet of Things Journal\n",
            "\topen IEEE Journal on Selected Areas in Communications\n",
            "\topen IEEE Network\n",
            "\topen IEEE Signal Processing Magazine\n",
            "\topen IEEE Transactions on Affective Computing\n",
            "\topen IEEE Transactions on Automatic Control\n",
            "\topen IEEE Transactions on Cognitive Communications and Networking\n",
            "\topen IEEE Transactions on Control of Network Systems\n",
            "\topen IEEE Transactions on Cybernetics\n",
            "\topen IEEE Transactions on Evolutionary Computation\n",
            "\topen IEEE Transactions on Fuzzy Systems\n",
            "\topen IEEE Transactions on Image Processing\n",
            "\topen IEEE Transactions on Industrial Electronics\n",
            "\topen IEEE Transactions on Industrial Informatics\n",
            "\topen IEEE Transactions on Information Forensics and Security\n",
            "\topen IEEE Transactions on Medical Imaging\n",
            "\topen IEEE Transactions on Multimedia\n",
            "\topen IEEE Transactions on Neural Networks and Learning Systems\n",
            "\topen IEEE Transactions on Pattern Analysis and Machine Intelligence\n",
            "\topen IEEE Transactions on Robotics\n",
            "\topen IEEE Transactions on Services Computing\n",
            "\topen IEEE Transactions on Signal Processing\n",
            "\topen IEEE Transactions on Smart Grid\n",
            "\topen IEEE Transactions on Systems, Man, and Cybernetics,Systems\n",
            "\topen IEEE Transactions on Vehicular Technology\n",
            "\topen IEEE Transactions on Visualization and Computer Graphics\n",
            "\topen IEEE Transactions on Wireless Communications\n",
            "\topen IEEE Wireless Communications\n",
            "\topen Proceedings of the IEEE\n",
            "train data length 184915\n",
            "start train\n",
            "end train: time 4162.1641933918\n",
            "save\n",
            "end save\n",
            "\n",
            "4185.004374027252\n",
            "***** end make doc2vec model *****\n"
          ]
        }
      ]
    }
  ]
}